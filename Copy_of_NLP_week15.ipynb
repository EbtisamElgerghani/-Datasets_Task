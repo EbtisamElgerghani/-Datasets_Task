{
  "nbformat": 4,
  "nbformat_minor": 0,
  "metadata": {
    "colab": {
      "provenance": [],
      "authorship_tag": "ABX9TyP9H8jTvOCJUYAi4N+jHoir",
      "include_colab_link": true
    },
    "kernelspec": {
      "name": "python3",
      "display_name": "Python 3"
    },
    "language_info": {
      "name": "python"
    }
  },
  "cells": [
    {
      "cell_type": "markdown",
      "metadata": {
        "id": "view-in-github",
        "colab_type": "text"
      },
      "source": [
        "<a href=\"https://colab.research.google.com/github/EbtisamElgerghani/-Datasets_Task/blob/main/Copy_of_NLP_week15.ipynb\" target=\"_parent\"><img src=\"https://colab.research.google.com/assets/colab-badge.svg\" alt=\"Open In Colab\"/></a>"
      ]
    },
    {
      "cell_type": "markdown",
      "source": [
        "install NLTK"
      ],
      "metadata": {
        "id": "2lK5fXD4HGmu"
      }
    },
    {
      "cell_type": "code",
      "execution_count": null,
      "metadata": {
        "colab": {
          "base_uri": "https://localhost:8080/"
        },
        "id": "csWlxGkcEDEF",
        "outputId": "d4b55103-2a61-43aa-e8ed-a1120ab6b431"
      },
      "outputs": [
        {
          "output_type": "stream",
          "name": "stdout",
          "text": [
            "Requirement already satisfied: nltk in /usr/local/lib/python3.10/dist-packages (3.8.1)\n",
            "Requirement already satisfied: click in /usr/local/lib/python3.10/dist-packages (from nltk) (8.1.7)\n",
            "Requirement already satisfied: joblib in /usr/local/lib/python3.10/dist-packages (from nltk) (1.4.2)\n",
            "Requirement already satisfied: regex>=2021.8.3 in /usr/local/lib/python3.10/dist-packages (from nltk) (2024.5.15)\n",
            "Requirement already satisfied: tqdm in /usr/local/lib/python3.10/dist-packages (from nltk) (4.66.4)\n"
          ]
        }
      ],
      "source": [
        "!pip install nltk"
      ]
    },
    {
      "cell_type": "code",
      "source": [
        "import nltk"
      ],
      "metadata": {
        "id": "GhF5Q6fdHVW_"
      },
      "execution_count": null,
      "outputs": []
    },
    {
      "cell_type": "code",
      "source": [
        "\n",
        "nltk.download()"
      ],
      "metadata": {
        "id": "MgAjFJS4L9ct",
        "colab": {
          "base_uri": "https://localhost:8080/"
        },
        "outputId": "40977c9d-13f1-42fc-e619-393bf7496b8c"
      },
      "execution_count": null,
      "outputs": [
        {
          "name": "stdout",
          "output_type": "stream",
          "text": [
            "NLTK Downloader\n",
            "---------------------------------------------------------------------------\n",
            "    d) Download   l) List    u) Update   c) Config   h) Help   q) Quit\n",
            "---------------------------------------------------------------------------\n",
            "Downloader> d\n",
            "\n",
            "Download which package (l=list; x=cancel)?\n",
            "  Identifier> words\n"
          ]
        },
        {
          "output_type": "stream",
          "name": "stderr",
          "text": [
            "    Downloading package words to /root/nltk_data...\n",
            "      Unzipping corpora/words.zip.\n"
          ]
        },
        {
          "name": "stdout",
          "output_type": "stream",
          "text": [
            "\n",
            "---------------------------------------------------------------------------\n",
            "    d) Download   l) List    u) Update   c) Config   h) Help   q) Quit\n",
            "---------------------------------------------------------------------------\n",
            "Downloader> q\n"
          ]
        },
        {
          "output_type": "execute_result",
          "data": {
            "text/plain": [
              "True"
            ]
          },
          "metadata": {},
          "execution_count": 15
        }
      ]
    },
    {
      "cell_type": "markdown",
      "source": [
        "### Tokenization"
      ],
      "metadata": {
        "id": "COxyOOJXHxCw"
      }
    },
    {
      "cell_type": "code",
      "source": [
        "from nltk.tokenize import word_tokenize\n",
        "text = \"Tesla shareholders have backed a record- breaking pay package for Elon Musk and approve a plan to move \\\n",
        "        the firm's legal headquarters to Taxas.\"\n",
        "tokens = word_tokenize(text)\n",
        "print(tokens)"
      ],
      "metadata": {
        "id": "23Z4L2-rHv9G",
        "colab": {
          "base_uri": "https://localhost:8080/"
        },
        "outputId": "5f9a7ac6-2599-4a3b-d106-04e931253c6a"
      },
      "execution_count": null,
      "outputs": [
        {
          "output_type": "stream",
          "name": "stdout",
          "text": [
            "['Tesla', 'shareholders', 'have', 'backed', 'a', 'record-', 'breaking', 'pay', 'package', 'for', 'Elon', 'Musk', 'and', 'approve', 'a', 'plan', 'to', 'move', 'the', 'firm', \"'s\", 'legal', 'headquarters', 'to', 'Taxas', '.']\n"
          ]
        }
      ]
    },
    {
      "cell_type": "markdown",
      "source": [
        "### Stop Words Removal"
      ],
      "metadata": {
        "id": "UgIHn65GKLkm"
      }
    },
    {
      "cell_type": "code",
      "source": [
        "from nltk.corpus import stopwords\n",
        "stop_words = set(stopwords.words('english'))\n",
        "filtered_tokens = [word for word in tokens if word.lower() not in stop_words]\n",
        "print(filtered_tokens)"
      ],
      "metadata": {
        "id": "IL6Ryo-VJL__",
        "colab": {
          "base_uri": "https://localhost:8080/"
        },
        "outputId": "dd1ed0ef-8db7-45c5-c8ab-bf0293010866"
      },
      "execution_count": null,
      "outputs": [
        {
          "output_type": "stream",
          "name": "stdout",
          "text": [
            "['Tesla', 'shareholders', 'backed', 'record-', 'breaking', 'pay', 'package', 'Elon', 'Musk', 'approve', 'plan', 'move', 'firm', \"'s\", 'legal', 'headquarters', 'Taxas', '.']\n"
          ]
        }
      ]
    },
    {
      "cell_type": "markdown",
      "source": [
        "### Lemmatization"
      ],
      "metadata": {
        "id": "rv7eReS2KUAN"
      }
    },
    {
      "cell_type": "code",
      "source": [
        "from nltk.stem import WordNetLemmatizer\n",
        "lemmatizer = WordNetLemmatizer()\n",
        "lemmatized_tokens = [lemmatizer.lemmatize(token) for token in filtered_tokens]\n",
        "print(lemmatized_tokens)\n"
      ],
      "metadata": {
        "id": "mZg6nhgOJ9MN",
        "colab": {
          "base_uri": "https://localhost:8080/"
        },
        "outputId": "e2fe60f1-a3b8-4f32-fdba-4c3db178c13f"
      },
      "execution_count": null,
      "outputs": [
        {
          "output_type": "stream",
          "name": "stdout",
          "text": [
            "['Tesla', 'shareholder', 'backed', 'record-', 'breaking', 'pay', 'package', 'Elon', 'Musk', 'approve', 'plan', 'move', 'firm', \"'s\", 'legal', 'headquarters', 'Taxas', '.']\n"
          ]
        }
      ]
    },
    {
      "cell_type": "markdown",
      "source": [
        "### Sentiment Analysis\n",
        "NLTK provides a Sentiment intensity Analyzer class that analizes for its negative, neutral, and positive sentiment."
      ],
      "metadata": {
        "id": "JpjUm9h5McWf"
      }
    },
    {
      "cell_type": "code",
      "source": [
        "from nltk.sentiment import SentimentIntensityAnalyzer\n",
        "analyzer = SentimentIntensityAnalyzer()\n",
        "sentiment_Score = analyzer.polarity_scores(text)\n",
        "print(sentiment_Score)"
      ],
      "metadata": {
        "id": "N41FsP22MTCW",
        "colab": {
          "base_uri": "https://localhost:8080/"
        },
        "outputId": "394ddb77-ce60-440a-a1c4-2be518239efe"
      },
      "execution_count": null,
      "outputs": [
        {
          "output_type": "stream",
          "name": "stdout",
          "text": [
            "{'neg': 0.061, 'neu': 0.826, 'pos': 0.113, 'compound': 0.0516}\n"
          ]
        }
      ]
    },
    {
      "cell_type": "markdown",
      "source": [
        "### Part_Of_Speech Tagging\n",
        "This example demonstrate how to tag each word in a sentence with its respective part off speech."
      ],
      "metadata": {
        "id": "QO1q9CdbOOXN"
      }
    },
    {
      "cell_type": "code",
      "source": [
        "from nltk import pos_tag\n",
        "text = \"Tesla shareholders have backed a record- breaking pay package for Elon Musk and approve a plan to move \\\n",
        "        the firm's legal headquarters to Taxas.\"\n",
        "tokens = word_tokenize(text)\n",
        "pos_tags = pos_tag(tokens)\n",
        "print(pos_tags)\n"
      ],
      "metadata": {
        "id": "mXzh_cnnOODK",
        "colab": {
          "base_uri": "https://localhost:8080/"
        },
        "outputId": "e7a7a2f5-e658-4620-98b4-3c86731b6bf0"
      },
      "execution_count": null,
      "outputs": [
        {
          "output_type": "stream",
          "name": "stdout",
          "text": [
            "[('Tesla', 'NNP'), ('shareholders', 'NNS'), ('have', 'VBP'), ('backed', 'VBN'), ('a', 'DT'), ('record-', 'JJ'), ('breaking', 'NN'), ('pay', 'NN'), ('package', 'NN'), ('for', 'IN'), ('Elon', 'NNP'), ('Musk', 'NNP'), ('and', 'CC'), ('approve', 'VB'), ('a', 'DT'), ('plan', 'NN'), ('to', 'TO'), ('move', 'VB'), ('the', 'DT'), ('firm', 'NN'), (\"'s\", 'POS'), ('legal', 'JJ'), ('headquarters', 'NN'), ('to', 'TO'), ('Taxas', 'NNP'), ('.', '.')]\n"
          ]
        }
      ]
    },
    {
      "cell_type": "markdown",
      "source": [
        "WE will use spaCy to access additional attributes (such as TAG, Explain, DEP, Shape, etc.)to create an informaive DataFrame."
      ],
      "metadata": {
        "id": "kzx_PpJMQVYl"
      }
    },
    {
      "cell_type": "code",
      "source": [
        "import spacy\n",
        "import pandas as pd\n",
        "# load th English language trained model - small moldel\n",
        "nlp = spacy.load(\"en_core_web_sm\")\n",
        "\n",
        "doc = nlp(text)\n",
        "# for token in doc:\n",
        "pos = [(token.text, token.lemma_, token.pos_, token.tag_, spacy.explain(token.tag_), token.dep_, token.shape_, token.is_alpha, token.is_stop)for token in doc]\n",
        "df = pd.DataFrame(pos, columns=['text', 'lemma','POS', 'TAG', 'Explain', 'DEP', 'Shape', 'Alpha', 'Stop'])\n",
        "df\n"
      ],
      "metadata": {
        "id": "YFj4TGH5ONtg",
        "colab": {
          "base_uri": "https://localhost:8080/",
          "height": 896
        },
        "outputId": "6b6bb1ab-1d0b-494c-d973-6b1758b98943"
      },
      "execution_count": null,
      "outputs": [
        {
          "output_type": "execute_result",
          "data": {
            "text/plain": [
              "            text         lemma    POS  TAG  \\\n",
              "0          Tesla         Tesla  PROPN  NNP   \n",
              "1   shareholders   shareholder   NOUN  NNS   \n",
              "2           have          have    AUX  VBP   \n",
              "3         backed          back   VERB  VBN   \n",
              "4              a             a    DET   DT   \n",
              "5        record-       record-   NOUN   NN   \n",
              "6       breaking         break   VERB  VBG   \n",
              "7            pay           pay   NOUN   NN   \n",
              "8        package       package   NOUN   NN   \n",
              "9            for           for    ADP   IN   \n",
              "10          Elon          Elon  PROPN  NNP   \n",
              "11          Musk          Musk  PROPN  NNP   \n",
              "12           and           and  CCONJ   CC   \n",
              "13       approve       approve   VERB   VB   \n",
              "14             a             a    DET   DT   \n",
              "15          plan          plan   NOUN   NN   \n",
              "16            to            to   PART   TO   \n",
              "17          move          move   VERB   VB   \n",
              "18                              SPACE  _SP   \n",
              "19           the           the    DET   DT   \n",
              "20          firm          firm   NOUN   NN   \n",
              "21            's            's   PART  POS   \n",
              "22         legal         legal    ADJ   JJ   \n",
              "23  headquarters  headquarters   NOUN   NN   \n",
              "24            to            to    ADP   IN   \n",
              "25         Taxas         Taxas  PROPN  NNP   \n",
              "26             .             .  PUNCT    .   \n",
              "\n",
              "                                              Explain       DEP  Shape  Alpha  \\\n",
              "0                               noun, proper singular  compound  Xxxxx   True   \n",
              "1                                        noun, plural     nsubj   xxxx   True   \n",
              "2               verb, non-3rd person singular present       aux   xxxx   True   \n",
              "3                               verb, past participle      ROOT   xxxx   True   \n",
              "4                                          determiner       det      x   True   \n",
              "5                              noun, singular or mass  npadvmod  xxxx-  False   \n",
              "6                  verb, gerund or present participle      amod   xxxx   True   \n",
              "7                              noun, singular or mass  compound    xxx   True   \n",
              "8                              noun, singular or mass      dobj   xxxx   True   \n",
              "9           conjunction, subordinating or preposition      prep    xxx   True   \n",
              "10                              noun, proper singular  compound   Xxxx   True   \n",
              "11                              noun, proper singular      pobj   Xxxx   True   \n",
              "12                          conjunction, coordinating        cc    xxx   True   \n",
              "13                                    verb, base form      conj   xxxx   True   \n",
              "14                                         determiner       det      x   True   \n",
              "15                             noun, singular or mass      dobj   xxxx   True   \n",
              "16                                   infinitival \"to\"       aux     xx   True   \n",
              "17                                    verb, base form       acl   xxxx   True   \n",
              "18                                         whitespace       dep         False   \n",
              "19                                         determiner       det    xxx   True   \n",
              "20                             noun, singular or mass      poss   xxxx   True   \n",
              "21                                  possessive ending      case     'x  False   \n",
              "22  adjective (English), other noun-modifier (Chin...      amod   xxxx   True   \n",
              "23                             noun, singular or mass      dobj   xxxx   True   \n",
              "24          conjunction, subordinating or preposition      prep     xx   True   \n",
              "25                              noun, proper singular      pobj  Xxxxx   True   \n",
              "26                  punctuation mark, sentence closer     punct      .  False   \n",
              "\n",
              "     Stop  \n",
              "0   False  \n",
              "1   False  \n",
              "2    True  \n",
              "3   False  \n",
              "4    True  \n",
              "5   False  \n",
              "6   False  \n",
              "7   False  \n",
              "8   False  \n",
              "9    True  \n",
              "10  False  \n",
              "11  False  \n",
              "12   True  \n",
              "13  False  \n",
              "14   True  \n",
              "15  False  \n",
              "16   True  \n",
              "17   True  \n",
              "18  False  \n",
              "19   True  \n",
              "20  False  \n",
              "21   True  \n",
              "22  False  \n",
              "23  False  \n",
              "24   True  \n",
              "25  False  \n",
              "26  False  "
            ],
            "text/html": [
              "\n",
              "  <div id=\"df-90a798f2-52b8-42a4-b9d2-659d6aa8ee80\" class=\"colab-df-container\">\n",
              "    <div>\n",
              "<style scoped>\n",
              "    .dataframe tbody tr th:only-of-type {\n",
              "        vertical-align: middle;\n",
              "    }\n",
              "\n",
              "    .dataframe tbody tr th {\n",
              "        vertical-align: top;\n",
              "    }\n",
              "\n",
              "    .dataframe thead th {\n",
              "        text-align: right;\n",
              "    }\n",
              "</style>\n",
              "<table border=\"1\" class=\"dataframe\">\n",
              "  <thead>\n",
              "    <tr style=\"text-align: right;\">\n",
              "      <th></th>\n",
              "      <th>text</th>\n",
              "      <th>lemma</th>\n",
              "      <th>POS</th>\n",
              "      <th>TAG</th>\n",
              "      <th>Explain</th>\n",
              "      <th>DEP</th>\n",
              "      <th>Shape</th>\n",
              "      <th>Alpha</th>\n",
              "      <th>Stop</th>\n",
              "    </tr>\n",
              "  </thead>\n",
              "  <tbody>\n",
              "    <tr>\n",
              "      <th>0</th>\n",
              "      <td>Tesla</td>\n",
              "      <td>Tesla</td>\n",
              "      <td>PROPN</td>\n",
              "      <td>NNP</td>\n",
              "      <td>noun, proper singular</td>\n",
              "      <td>compound</td>\n",
              "      <td>Xxxxx</td>\n",
              "      <td>True</td>\n",
              "      <td>False</td>\n",
              "    </tr>\n",
              "    <tr>\n",
              "      <th>1</th>\n",
              "      <td>shareholders</td>\n",
              "      <td>shareholder</td>\n",
              "      <td>NOUN</td>\n",
              "      <td>NNS</td>\n",
              "      <td>noun, plural</td>\n",
              "      <td>nsubj</td>\n",
              "      <td>xxxx</td>\n",
              "      <td>True</td>\n",
              "      <td>False</td>\n",
              "    </tr>\n",
              "    <tr>\n",
              "      <th>2</th>\n",
              "      <td>have</td>\n",
              "      <td>have</td>\n",
              "      <td>AUX</td>\n",
              "      <td>VBP</td>\n",
              "      <td>verb, non-3rd person singular present</td>\n",
              "      <td>aux</td>\n",
              "      <td>xxxx</td>\n",
              "      <td>True</td>\n",
              "      <td>True</td>\n",
              "    </tr>\n",
              "    <tr>\n",
              "      <th>3</th>\n",
              "      <td>backed</td>\n",
              "      <td>back</td>\n",
              "      <td>VERB</td>\n",
              "      <td>VBN</td>\n",
              "      <td>verb, past participle</td>\n",
              "      <td>ROOT</td>\n",
              "      <td>xxxx</td>\n",
              "      <td>True</td>\n",
              "      <td>False</td>\n",
              "    </tr>\n",
              "    <tr>\n",
              "      <th>4</th>\n",
              "      <td>a</td>\n",
              "      <td>a</td>\n",
              "      <td>DET</td>\n",
              "      <td>DT</td>\n",
              "      <td>determiner</td>\n",
              "      <td>det</td>\n",
              "      <td>x</td>\n",
              "      <td>True</td>\n",
              "      <td>True</td>\n",
              "    </tr>\n",
              "    <tr>\n",
              "      <th>5</th>\n",
              "      <td>record-</td>\n",
              "      <td>record-</td>\n",
              "      <td>NOUN</td>\n",
              "      <td>NN</td>\n",
              "      <td>noun, singular or mass</td>\n",
              "      <td>npadvmod</td>\n",
              "      <td>xxxx-</td>\n",
              "      <td>False</td>\n",
              "      <td>False</td>\n",
              "    </tr>\n",
              "    <tr>\n",
              "      <th>6</th>\n",
              "      <td>breaking</td>\n",
              "      <td>break</td>\n",
              "      <td>VERB</td>\n",
              "      <td>VBG</td>\n",
              "      <td>verb, gerund or present participle</td>\n",
              "      <td>amod</td>\n",
              "      <td>xxxx</td>\n",
              "      <td>True</td>\n",
              "      <td>False</td>\n",
              "    </tr>\n",
              "    <tr>\n",
              "      <th>7</th>\n",
              "      <td>pay</td>\n",
              "      <td>pay</td>\n",
              "      <td>NOUN</td>\n",
              "      <td>NN</td>\n",
              "      <td>noun, singular or mass</td>\n",
              "      <td>compound</td>\n",
              "      <td>xxx</td>\n",
              "      <td>True</td>\n",
              "      <td>False</td>\n",
              "    </tr>\n",
              "    <tr>\n",
              "      <th>8</th>\n",
              "      <td>package</td>\n",
              "      <td>package</td>\n",
              "      <td>NOUN</td>\n",
              "      <td>NN</td>\n",
              "      <td>noun, singular or mass</td>\n",
              "      <td>dobj</td>\n",
              "      <td>xxxx</td>\n",
              "      <td>True</td>\n",
              "      <td>False</td>\n",
              "    </tr>\n",
              "    <tr>\n",
              "      <th>9</th>\n",
              "      <td>for</td>\n",
              "      <td>for</td>\n",
              "      <td>ADP</td>\n",
              "      <td>IN</td>\n",
              "      <td>conjunction, subordinating or preposition</td>\n",
              "      <td>prep</td>\n",
              "      <td>xxx</td>\n",
              "      <td>True</td>\n",
              "      <td>True</td>\n",
              "    </tr>\n",
              "    <tr>\n",
              "      <th>10</th>\n",
              "      <td>Elon</td>\n",
              "      <td>Elon</td>\n",
              "      <td>PROPN</td>\n",
              "      <td>NNP</td>\n",
              "      <td>noun, proper singular</td>\n",
              "      <td>compound</td>\n",
              "      <td>Xxxx</td>\n",
              "      <td>True</td>\n",
              "      <td>False</td>\n",
              "    </tr>\n",
              "    <tr>\n",
              "      <th>11</th>\n",
              "      <td>Musk</td>\n",
              "      <td>Musk</td>\n",
              "      <td>PROPN</td>\n",
              "      <td>NNP</td>\n",
              "      <td>noun, proper singular</td>\n",
              "      <td>pobj</td>\n",
              "      <td>Xxxx</td>\n",
              "      <td>True</td>\n",
              "      <td>False</td>\n",
              "    </tr>\n",
              "    <tr>\n",
              "      <th>12</th>\n",
              "      <td>and</td>\n",
              "      <td>and</td>\n",
              "      <td>CCONJ</td>\n",
              "      <td>CC</td>\n",
              "      <td>conjunction, coordinating</td>\n",
              "      <td>cc</td>\n",
              "      <td>xxx</td>\n",
              "      <td>True</td>\n",
              "      <td>True</td>\n",
              "    </tr>\n",
              "    <tr>\n",
              "      <th>13</th>\n",
              "      <td>approve</td>\n",
              "      <td>approve</td>\n",
              "      <td>VERB</td>\n",
              "      <td>VB</td>\n",
              "      <td>verb, base form</td>\n",
              "      <td>conj</td>\n",
              "      <td>xxxx</td>\n",
              "      <td>True</td>\n",
              "      <td>False</td>\n",
              "    </tr>\n",
              "    <tr>\n",
              "      <th>14</th>\n",
              "      <td>a</td>\n",
              "      <td>a</td>\n",
              "      <td>DET</td>\n",
              "      <td>DT</td>\n",
              "      <td>determiner</td>\n",
              "      <td>det</td>\n",
              "      <td>x</td>\n",
              "      <td>True</td>\n",
              "      <td>True</td>\n",
              "    </tr>\n",
              "    <tr>\n",
              "      <th>15</th>\n",
              "      <td>plan</td>\n",
              "      <td>plan</td>\n",
              "      <td>NOUN</td>\n",
              "      <td>NN</td>\n",
              "      <td>noun, singular or mass</td>\n",
              "      <td>dobj</td>\n",
              "      <td>xxxx</td>\n",
              "      <td>True</td>\n",
              "      <td>False</td>\n",
              "    </tr>\n",
              "    <tr>\n",
              "      <th>16</th>\n",
              "      <td>to</td>\n",
              "      <td>to</td>\n",
              "      <td>PART</td>\n",
              "      <td>TO</td>\n",
              "      <td>infinitival \"to\"</td>\n",
              "      <td>aux</td>\n",
              "      <td>xx</td>\n",
              "      <td>True</td>\n",
              "      <td>True</td>\n",
              "    </tr>\n",
              "    <tr>\n",
              "      <th>17</th>\n",
              "      <td>move</td>\n",
              "      <td>move</td>\n",
              "      <td>VERB</td>\n",
              "      <td>VB</td>\n",
              "      <td>verb, base form</td>\n",
              "      <td>acl</td>\n",
              "      <td>xxxx</td>\n",
              "      <td>True</td>\n",
              "      <td>True</td>\n",
              "    </tr>\n",
              "    <tr>\n",
              "      <th>18</th>\n",
              "      <td></td>\n",
              "      <td></td>\n",
              "      <td>SPACE</td>\n",
              "      <td>_SP</td>\n",
              "      <td>whitespace</td>\n",
              "      <td>dep</td>\n",
              "      <td></td>\n",
              "      <td>False</td>\n",
              "      <td>False</td>\n",
              "    </tr>\n",
              "    <tr>\n",
              "      <th>19</th>\n",
              "      <td>the</td>\n",
              "      <td>the</td>\n",
              "      <td>DET</td>\n",
              "      <td>DT</td>\n",
              "      <td>determiner</td>\n",
              "      <td>det</td>\n",
              "      <td>xxx</td>\n",
              "      <td>True</td>\n",
              "      <td>True</td>\n",
              "    </tr>\n",
              "    <tr>\n",
              "      <th>20</th>\n",
              "      <td>firm</td>\n",
              "      <td>firm</td>\n",
              "      <td>NOUN</td>\n",
              "      <td>NN</td>\n",
              "      <td>noun, singular or mass</td>\n",
              "      <td>poss</td>\n",
              "      <td>xxxx</td>\n",
              "      <td>True</td>\n",
              "      <td>False</td>\n",
              "    </tr>\n",
              "    <tr>\n",
              "      <th>21</th>\n",
              "      <td>'s</td>\n",
              "      <td>'s</td>\n",
              "      <td>PART</td>\n",
              "      <td>POS</td>\n",
              "      <td>possessive ending</td>\n",
              "      <td>case</td>\n",
              "      <td>'x</td>\n",
              "      <td>False</td>\n",
              "      <td>True</td>\n",
              "    </tr>\n",
              "    <tr>\n",
              "      <th>22</th>\n",
              "      <td>legal</td>\n",
              "      <td>legal</td>\n",
              "      <td>ADJ</td>\n",
              "      <td>JJ</td>\n",
              "      <td>adjective (English), other noun-modifier (Chin...</td>\n",
              "      <td>amod</td>\n",
              "      <td>xxxx</td>\n",
              "      <td>True</td>\n",
              "      <td>False</td>\n",
              "    </tr>\n",
              "    <tr>\n",
              "      <th>23</th>\n",
              "      <td>headquarters</td>\n",
              "      <td>headquarters</td>\n",
              "      <td>NOUN</td>\n",
              "      <td>NN</td>\n",
              "      <td>noun, singular or mass</td>\n",
              "      <td>dobj</td>\n",
              "      <td>xxxx</td>\n",
              "      <td>True</td>\n",
              "      <td>False</td>\n",
              "    </tr>\n",
              "    <tr>\n",
              "      <th>24</th>\n",
              "      <td>to</td>\n",
              "      <td>to</td>\n",
              "      <td>ADP</td>\n",
              "      <td>IN</td>\n",
              "      <td>conjunction, subordinating or preposition</td>\n",
              "      <td>prep</td>\n",
              "      <td>xx</td>\n",
              "      <td>True</td>\n",
              "      <td>True</td>\n",
              "    </tr>\n",
              "    <tr>\n",
              "      <th>25</th>\n",
              "      <td>Taxas</td>\n",
              "      <td>Taxas</td>\n",
              "      <td>PROPN</td>\n",
              "      <td>NNP</td>\n",
              "      <td>noun, proper singular</td>\n",
              "      <td>pobj</td>\n",
              "      <td>Xxxxx</td>\n",
              "      <td>True</td>\n",
              "      <td>False</td>\n",
              "    </tr>\n",
              "    <tr>\n",
              "      <th>26</th>\n",
              "      <td>.</td>\n",
              "      <td>.</td>\n",
              "      <td>PUNCT</td>\n",
              "      <td>.</td>\n",
              "      <td>punctuation mark, sentence closer</td>\n",
              "      <td>punct</td>\n",
              "      <td>.</td>\n",
              "      <td>False</td>\n",
              "      <td>False</td>\n",
              "    </tr>\n",
              "  </tbody>\n",
              "</table>\n",
              "</div>\n",
              "    <div class=\"colab-df-buttons\">\n",
              "\n",
              "  <div class=\"colab-df-container\">\n",
              "    <button class=\"colab-df-convert\" onclick=\"convertToInteractive('df-90a798f2-52b8-42a4-b9d2-659d6aa8ee80')\"\n",
              "            title=\"Convert this dataframe to an interactive table.\"\n",
              "            style=\"display:none;\">\n",
              "\n",
              "  <svg xmlns=\"http://www.w3.org/2000/svg\" height=\"24px\" viewBox=\"0 -960 960 960\">\n",
              "    <path d=\"M120-120v-720h720v720H120Zm60-500h600v-160H180v160Zm220 220h160v-160H400v160Zm0 220h160v-160H400v160ZM180-400h160v-160H180v160Zm440 0h160v-160H620v160ZM180-180h160v-160H180v160Zm440 0h160v-160H620v160Z\"/>\n",
              "  </svg>\n",
              "    </button>\n",
              "\n",
              "  <style>\n",
              "    .colab-df-container {\n",
              "      display:flex;\n",
              "      gap: 12px;\n",
              "    }\n",
              "\n",
              "    .colab-df-convert {\n",
              "      background-color: #E8F0FE;\n",
              "      border: none;\n",
              "      border-radius: 50%;\n",
              "      cursor: pointer;\n",
              "      display: none;\n",
              "      fill: #1967D2;\n",
              "      height: 32px;\n",
              "      padding: 0 0 0 0;\n",
              "      width: 32px;\n",
              "    }\n",
              "\n",
              "    .colab-df-convert:hover {\n",
              "      background-color: #E2EBFA;\n",
              "      box-shadow: 0px 1px 2px rgba(60, 64, 67, 0.3), 0px 1px 3px 1px rgba(60, 64, 67, 0.15);\n",
              "      fill: #174EA6;\n",
              "    }\n",
              "\n",
              "    .colab-df-buttons div {\n",
              "      margin-bottom: 4px;\n",
              "    }\n",
              "\n",
              "    [theme=dark] .colab-df-convert {\n",
              "      background-color: #3B4455;\n",
              "      fill: #D2E3FC;\n",
              "    }\n",
              "\n",
              "    [theme=dark] .colab-df-convert:hover {\n",
              "      background-color: #434B5C;\n",
              "      box-shadow: 0px 1px 3px 1px rgba(0, 0, 0, 0.15);\n",
              "      filter: drop-shadow(0px 1px 2px rgba(0, 0, 0, 0.3));\n",
              "      fill: #FFFFFF;\n",
              "    }\n",
              "  </style>\n",
              "\n",
              "    <script>\n",
              "      const buttonEl =\n",
              "        document.querySelector('#df-90a798f2-52b8-42a4-b9d2-659d6aa8ee80 button.colab-df-convert');\n",
              "      buttonEl.style.display =\n",
              "        google.colab.kernel.accessAllowed ? 'block' : 'none';\n",
              "\n",
              "      async function convertToInteractive(key) {\n",
              "        const element = document.querySelector('#df-90a798f2-52b8-42a4-b9d2-659d6aa8ee80');\n",
              "        const dataTable =\n",
              "          await google.colab.kernel.invokeFunction('convertToInteractive',\n",
              "                                                    [key], {});\n",
              "        if (!dataTable) return;\n",
              "\n",
              "        const docLinkHtml = 'Like what you see? Visit the ' +\n",
              "          '<a target=\"_blank\" href=https://colab.research.google.com/notebooks/data_table.ipynb>data table notebook</a>'\n",
              "          + ' to learn more about interactive tables.';\n",
              "        element.innerHTML = '';\n",
              "        dataTable['output_type'] = 'display_data';\n",
              "        await google.colab.output.renderOutput(dataTable, element);\n",
              "        const docLink = document.createElement('div');\n",
              "        docLink.innerHTML = docLinkHtml;\n",
              "        element.appendChild(docLink);\n",
              "      }\n",
              "    </script>\n",
              "  </div>\n",
              "\n",
              "\n",
              "<div id=\"df-817bb31f-69c5-446b-b4eb-d38620c27a2c\">\n",
              "  <button class=\"colab-df-quickchart\" onclick=\"quickchart('df-817bb31f-69c5-446b-b4eb-d38620c27a2c')\"\n",
              "            title=\"Suggest charts\"\n",
              "            style=\"display:none;\">\n",
              "\n",
              "<svg xmlns=\"http://www.w3.org/2000/svg\" height=\"24px\"viewBox=\"0 0 24 24\"\n",
              "     width=\"24px\">\n",
              "    <g>\n",
              "        <path d=\"M19 3H5c-1.1 0-2 .9-2 2v14c0 1.1.9 2 2 2h14c1.1 0 2-.9 2-2V5c0-1.1-.9-2-2-2zM9 17H7v-7h2v7zm4 0h-2V7h2v10zm4 0h-2v-4h2v4z\"/>\n",
              "    </g>\n",
              "</svg>\n",
              "  </button>\n",
              "\n",
              "<style>\n",
              "  .colab-df-quickchart {\n",
              "      --bg-color: #E8F0FE;\n",
              "      --fill-color: #1967D2;\n",
              "      --hover-bg-color: #E2EBFA;\n",
              "      --hover-fill-color: #174EA6;\n",
              "      --disabled-fill-color: #AAA;\n",
              "      --disabled-bg-color: #DDD;\n",
              "  }\n",
              "\n",
              "  [theme=dark] .colab-df-quickchart {\n",
              "      --bg-color: #3B4455;\n",
              "      --fill-color: #D2E3FC;\n",
              "      --hover-bg-color: #434B5C;\n",
              "      --hover-fill-color: #FFFFFF;\n",
              "      --disabled-bg-color: #3B4455;\n",
              "      --disabled-fill-color: #666;\n",
              "  }\n",
              "\n",
              "  .colab-df-quickchart {\n",
              "    background-color: var(--bg-color);\n",
              "    border: none;\n",
              "    border-radius: 50%;\n",
              "    cursor: pointer;\n",
              "    display: none;\n",
              "    fill: var(--fill-color);\n",
              "    height: 32px;\n",
              "    padding: 0;\n",
              "    width: 32px;\n",
              "  }\n",
              "\n",
              "  .colab-df-quickchart:hover {\n",
              "    background-color: var(--hover-bg-color);\n",
              "    box-shadow: 0 1px 2px rgba(60, 64, 67, 0.3), 0 1px 3px 1px rgba(60, 64, 67, 0.15);\n",
              "    fill: var(--button-hover-fill-color);\n",
              "  }\n",
              "\n",
              "  .colab-df-quickchart-complete:disabled,\n",
              "  .colab-df-quickchart-complete:disabled:hover {\n",
              "    background-color: var(--disabled-bg-color);\n",
              "    fill: var(--disabled-fill-color);\n",
              "    box-shadow: none;\n",
              "  }\n",
              "\n",
              "  .colab-df-spinner {\n",
              "    border: 2px solid var(--fill-color);\n",
              "    border-color: transparent;\n",
              "    border-bottom-color: var(--fill-color);\n",
              "    animation:\n",
              "      spin 1s steps(1) infinite;\n",
              "  }\n",
              "\n",
              "  @keyframes spin {\n",
              "    0% {\n",
              "      border-color: transparent;\n",
              "      border-bottom-color: var(--fill-color);\n",
              "      border-left-color: var(--fill-color);\n",
              "    }\n",
              "    20% {\n",
              "      border-color: transparent;\n",
              "      border-left-color: var(--fill-color);\n",
              "      border-top-color: var(--fill-color);\n",
              "    }\n",
              "    30% {\n",
              "      border-color: transparent;\n",
              "      border-left-color: var(--fill-color);\n",
              "      border-top-color: var(--fill-color);\n",
              "      border-right-color: var(--fill-color);\n",
              "    }\n",
              "    40% {\n",
              "      border-color: transparent;\n",
              "      border-right-color: var(--fill-color);\n",
              "      border-top-color: var(--fill-color);\n",
              "    }\n",
              "    60% {\n",
              "      border-color: transparent;\n",
              "      border-right-color: var(--fill-color);\n",
              "    }\n",
              "    80% {\n",
              "      border-color: transparent;\n",
              "      border-right-color: var(--fill-color);\n",
              "      border-bottom-color: var(--fill-color);\n",
              "    }\n",
              "    90% {\n",
              "      border-color: transparent;\n",
              "      border-bottom-color: var(--fill-color);\n",
              "    }\n",
              "  }\n",
              "</style>\n",
              "\n",
              "  <script>\n",
              "    async function quickchart(key) {\n",
              "      const quickchartButtonEl =\n",
              "        document.querySelector('#' + key + ' button');\n",
              "      quickchartButtonEl.disabled = true;  // To prevent multiple clicks.\n",
              "      quickchartButtonEl.classList.add('colab-df-spinner');\n",
              "      try {\n",
              "        const charts = await google.colab.kernel.invokeFunction(\n",
              "            'suggestCharts', [key], {});\n",
              "      } catch (error) {\n",
              "        console.error('Error during call to suggestCharts:', error);\n",
              "      }\n",
              "      quickchartButtonEl.classList.remove('colab-df-spinner');\n",
              "      quickchartButtonEl.classList.add('colab-df-quickchart-complete');\n",
              "    }\n",
              "    (() => {\n",
              "      let quickchartButtonEl =\n",
              "        document.querySelector('#df-817bb31f-69c5-446b-b4eb-d38620c27a2c button');\n",
              "      quickchartButtonEl.style.display =\n",
              "        google.colab.kernel.accessAllowed ? 'block' : 'none';\n",
              "    })();\n",
              "  </script>\n",
              "</div>\n",
              "    </div>\n",
              "  </div>\n"
            ],
            "application/vnd.google.colaboratory.intrinsic+json": {
              "type": "dataframe",
              "variable_name": "df",
              "summary": "{\n  \"name\": \"df\",\n  \"rows\": 27,\n  \"fields\": [\n    {\n      \"column\": \"text\",\n      \"properties\": {\n        \"dtype\": \"string\",\n        \"num_unique_values\": 25,\n        \"samples\": [\n          \"package\",\n          \"move\",\n          \"Tesla\"\n        ],\n        \"semantic_type\": \"\",\n        \"description\": \"\"\n      }\n    },\n    {\n      \"column\": \"lemma\",\n      \"properties\": {\n        \"dtype\": \"string\",\n        \"num_unique_values\": 25,\n        \"samples\": [\n          \"package\",\n          \"move\",\n          \"Tesla\"\n        ],\n        \"semantic_type\": \"\",\n        \"description\": \"\"\n      }\n    },\n    {\n      \"column\": \"POS\",\n      \"properties\": {\n        \"dtype\": \"category\",\n        \"num_unique_values\": 11,\n        \"samples\": [\n          \"ADP\",\n          \"PROPN\",\n          \"ADJ\"\n        ],\n        \"semantic_type\": \"\",\n        \"description\": \"\"\n      }\n    },\n    {\n      \"column\": \"TAG\",\n      \"properties\": {\n        \"dtype\": \"string\",\n        \"num_unique_values\": 15,\n        \"samples\": [\n          \"VB\",\n          \"_SP\",\n          \"NNP\"\n        ],\n        \"semantic_type\": \"\",\n        \"description\": \"\"\n      }\n    },\n    {\n      \"column\": \"Explain\",\n      \"properties\": {\n        \"dtype\": \"string\",\n        \"num_unique_values\": 15,\n        \"samples\": [\n          \"verb, base form\",\n          \"whitespace\",\n          \"noun, proper singular\"\n        ],\n        \"semantic_type\": \"\",\n        \"description\": \"\"\n      }\n    },\n    {\n      \"column\": \"DEP\",\n      \"properties\": {\n        \"dtype\": \"string\",\n        \"num_unique_values\": 17,\n        \"samples\": [\n          \"compound\",\n          \"nsubj\",\n          \"npadvmod\"\n        ],\n        \"semantic_type\": \"\",\n        \"description\": \"\"\n      }\n    },\n    {\n      \"column\": \"Shape\",\n      \"properties\": {\n        \"dtype\": \"category\",\n        \"num_unique_values\": 10,\n        \"samples\": [\n          \"'x\",\n          \"xxxx\",\n          \"Xxxx\"\n        ],\n        \"semantic_type\": \"\",\n        \"description\": \"\"\n      }\n    },\n    {\n      \"column\": \"Alpha\",\n      \"properties\": {\n        \"dtype\": \"boolean\",\n        \"num_unique_values\": 2,\n        \"samples\": [\n          false,\n          true\n        ],\n        \"semantic_type\": \"\",\n        \"description\": \"\"\n      }\n    },\n    {\n      \"column\": \"Stop\",\n      \"properties\": {\n        \"dtype\": \"boolean\",\n        \"num_unique_values\": 2,\n        \"samples\": [\n          true,\n          false\n        ],\n        \"semantic_type\": \"\",\n        \"description\": \"\"\n      }\n    }\n  ]\n}"
            }
          },
          "metadata": {},
          "execution_count": 11
        }
      ]
    },
    {
      "cell_type": "markdown",
      "source": [
        "### Named Entity Recognition\n",
        "NLTK provides a ne_chunk function that performs NER."
      ],
      "metadata": {
        "id": "h-g8q-q_UHPJ"
      }
    },
    {
      "cell_type": "code",
      "source": [
        "from nltk import ne_chunk\n",
        "tokens = word_tokenize(text)\n",
        "stop_words = set(stopwords.words('english'))\n",
        "filtered_tokens = [word for word in tokens if word.lower() not in stop_words]\n",
        "lemmatizer = WordNetLemmatizer()\n",
        "lemmatized_tokens = [lemmatizer.lemmatize(token) for token in filtered_tokens]\n",
        "pos_tags = nltk.pos_tag(lemmatized_tokens)\n",
        "ner_tags = ne_chunk(pos_tags)\n",
        "print(ner_tags)"
      ],
      "metadata": {
        "id": "yeoI4cIFQVFD",
        "colab": {
          "base_uri": "https://localhost:8080/"
        },
        "outputId": "bbaf65e4-f5d2-40dd-aacc-41ffdf681c6e"
      },
      "execution_count": null,
      "outputs": [
        {
          "output_type": "stream",
          "name": "stdout",
          "text": [
            "(S\n",
            "  (GPE Tesla/NNP)\n",
            "  shareholder/NN\n",
            "  backed/VBD\n",
            "  record-/JJ\n",
            "  breaking/NN\n",
            "  pay/NN\n",
            "  package/NN\n",
            "  (PERSON Elon/NNP Musk/NNP)\n",
            "  approve/VB\n",
            "  plan/NN\n",
            "  move/VBP\n",
            "  firm/NN\n",
            "  's/POS\n",
            "  legal/JJ\n",
            "  headquarters/NN\n",
            "  (PERSON Taxas/NNP)\n",
            "  ./.)\n"
          ]
        }
      ]
    },
    {
      "cell_type": "markdown",
      "source": [
        "Entity Recognition"
      ],
      "metadata": {
        "id": "u4R7aJbtZ-Pu"
      }
    },
    {
      "cell_type": "code",
      "source": [
        "'''from nltk import ne_chunk\n",
        "tokens = word_tokenize(text)\n",
        "def remove_stop():\n",
        "    stop_words = set(stopwords.words('english'))\n",
        "    filtered_tokens = [word for word in tokens if word.lower() not in stop_words]\n",
        "\n",
        "\n",
        "df['column_name'].apply(remove_stop)\n",
        "\n",
        "\n",
        "lemmatizer = WordNetLemmatizer()\n",
        "lemmatized_tokens = [lemmatizer.lemmatize(token) for token in filtered_tokens]\n",
        "pos_tags = nltk.pos_tag(lemmatized_tokens)\n",
        "ner_tags = ne_chunk(pos_tags)\n",
        "print(ner_tags)'''"
      ],
      "metadata": {
        "id": "LAyy0SQSOLu0",
        "colab": {
          "base_uri": "https://localhost:8080/",
          "height": 71
        },
        "outputId": "689277ba-bae7-4f0e-ce51-68dd29df18dc"
      },
      "execution_count": null,
      "outputs": [
        {
          "output_type": "execute_result",
          "data": {
            "text/plain": [
              "\"from nltk import ne_chunk\\ntokens = word_tokenize(text)\\ndef remove_stop():\\n    stop_words = set(stopwords.words('english'))\\n    filtered_tokens = [word for word in tokens if word.lower() not in stop_words]\\n\\n\\ndf['column_name'].apply(remove_stop)\\n\\n\\nlemmatizer = WordNetLemmatizer()\\nlemmatized_tokens = [lemmatizer.lemmatize(token) for token in filtered_tokens]\\npos_tags = nltk.pos_tag(lemmatized_tokens)\\nner_tags = ne_chunk(pos_tags)\\nprint(ner_tags)\""
            ],
            "application/vnd.google.colaboratory.intrinsic+json": {
              "type": "string"
            }
          },
          "metadata": {},
          "execution_count": 20
        }
      ]
    },
    {
      "cell_type": "markdown",
      "source": [
        "### Word Frequency Distribution\n",
        "we can analyse the frequency of words in the text."
      ],
      "metadata": {
        "id": "W5f0Iip_YMhF"
      }
    },
    {
      "cell_type": "code",
      "source": [
        "from nltk.probability import  FreqDist\n",
        "fdist = FreqDist(lemmatized_tokens)\n",
        "print(fdist.most_common(10))"
      ],
      "metadata": {
        "id": "Lq4ifa7yaD-l",
        "colab": {
          "base_uri": "https://localhost:8080/"
        },
        "outputId": "c4952666-d6e1-4721-b050-ce134963e9ae"
      },
      "execution_count": null,
      "outputs": [
        {
          "output_type": "stream",
          "name": "stdout",
          "text": [
            "[('Tesla', 1), ('shareholder', 1), ('backed', 1), ('record-', 1), ('breaking', 1), ('pay', 1), ('package', 1), ('Elon', 1), ('Musk', 1), ('approve', 1)]\n"
          ]
        }
      ]
    },
    {
      "cell_type": "markdown",
      "source": [
        "We can visualize this distribution."
      ],
      "metadata": {
        "id": "6C2T9G2Sah7t"
      }
    },
    {
      "cell_type": "code",
      "source": [
        "import matplotlib.pyplot as plt\n",
        "fdist.plot(30, cumulative=False)"
      ],
      "metadata": {
        "id": "GAv_es4lagnC",
        "colab": {
          "base_uri": "https://localhost:8080/",
          "height": 547
        },
        "outputId": "802933df-0dab-4652-ac57-06364ff0335b"
      },
      "execution_count": null,
      "outputs": [
        {
          "output_type": "display_data",
          "data": {
            "text/plain": [
              "<Figure size 640x480 with 1 Axes>"
            ],
            "image/png": "[encoded data removed]"
          },
          "metadata": {}
        },
        {
          "output_type": "execute_result",
          "data": {
            "text/plain": [
              "<Axes: xlabel='Samples', ylabel='Counts'>"
            ]
          },
          "metadata": {},
          "execution_count": 23
        }
      ]
    }
  ]
}