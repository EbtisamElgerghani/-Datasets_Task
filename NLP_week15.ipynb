{
  "nbformat": 4,
  "nbformat_minor": 0,
  "metadata": {
    "colab": {
      "provenance": [],
      "authorship_tag": "ABX9TyP3jnURA7DuSxgIXRLGXLAa",
      "include_colab_link": true
    },
    "kernelspec": {
      "name": "python3",
      "display_name": "Python 3"
    },
    "language_info": {
      "name": "python"
    }
  },
  "cells": [
    {
      "cell_type": "markdown",
      "metadata": {
        "id": "view-in-github",
        "colab_type": "text"
      },
      "source": [
        "<a href=\"https://colab.research.google.com/github/EbtisamElgerghani/-Datasets_Task/blob/main/NLP_week15.ipynb\" target=\"_parent\"><img src=\"https://colab.research.google.com/assets/colab-badge.svg\" alt=\"Open In Colab\"/></a>"
      ]
    },
    {
      "cell_type": "markdown",
      "source": [
        "install NLTK"
      ],
      "metadata": {
        "id": "2lK5fXD4HGmu"
      }
    },
    {
      "cell_type": "code",
      "execution_count": 1,
      "metadata": {
        "colab": {
          "base_uri": "https://localhost:8080/"
        },
        "id": "csWlxGkcEDEF",
        "outputId": "8d6f4410-89b4-485e-e76b-3c04a37be887"
      },
      "outputs": [
        {
          "output_type": "stream",
          "name": "stdout",
          "text": [
            "Requirement already satisfied: nltk in /usr/local/lib/python3.10/dist-packages (3.8.1)\n",
            "Requirement already satisfied: click in /usr/local/lib/python3.10/dist-packages (from nltk) (8.1.7)\n",
            "Requirement already satisfied: joblib in /usr/local/lib/python3.10/dist-packages (from nltk) (1.4.2)\n",
            "Requirement already satisfied: regex>=2021.8.3 in /usr/local/lib/python3.10/dist-packages (from nltk) (2024.5.15)\n",
            "Requirement already satisfied: tqdm in /usr/local/lib/python3.10/dist-packages (from nltk) (4.66.4)\n"
          ]
        }
      ],
      "source": [
        "!pip install nltk"
      ]
    },
    {
      "cell_type": "code",
      "source": [
        "import nltk"
      ],
      "metadata": {
        "id": "GhF5Q6fdHVW_"
      },
      "execution_count": 2,
      "outputs": []
    },
    {
      "cell_type": "code",
      "source": [
        "nltk.download()"
      ],
      "metadata": {
        "id": "MgAjFJS4L9ct"
      },
      "execution_count": null,
      "outputs": []
    },
    {
      "cell_type": "markdown",
      "source": [
        "### Tokenization"
      ],
      "metadata": {
        "id": "COxyOOJXHxCw"
      }
    },
    {
      "cell_type": "code",
      "source": [
        "from nltk.tokenize import word_tokenize\n",
        "text = \"Tesla shareholders have backed a record- breaking pay package for Elon Musk and approve a plan to move \\\n",
        "        the firm's legal headquarters to Taxas.\"\n",
        "tokens = word_tokenize(text)\n",
        "print(tokens)"
      ],
      "metadata": {
        "id": "23Z4L2-rHv9G"
      },
      "execution_count": null,
      "outputs": []
    },
    {
      "cell_type": "markdown",
      "source": [
        "### Stop Words Removal"
      ],
      "metadata": {
        "id": "UgIHn65GKLkm"
      }
    },
    {
      "cell_type": "code",
      "source": [
        "from nltk.corpus import stopwords\n",
        "stop_words = set(stopwords.words('english'))\n",
        "filtered_tokens = [word for word in tokens if word.lower() not in stop_words]\n",
        "print(filtered_tokens)"
      ],
      "metadata": {
        "id": "IL6Ryo-VJL__"
      },
      "execution_count": null,
      "outputs": []
    },
    {
      "cell_type": "markdown",
      "source": [
        "### Lemmatization"
      ],
      "metadata": {
        "id": "rv7eReS2KUAN"
      }
    },
    {
      "cell_type": "code",
      "source": [
        "from nltk.stem import WordNetLemmatizer\n",
        "lemmatizer = WordNetLemmatizer()\n",
        "lemmatized_tokens = [lemmatizer.lemmatize(tokens) for token in filtered_tokens]\n",
        "print(lemmatized_tokens)\n"
      ],
      "metadata": {
        "id": "mZg6nhgOJ9MN"
      },
      "execution_count": null,
      "outputs": []
    },
    {
      "cell_type": "markdown",
      "source": [
        "### Sentiment Analysis\n",
        "NLTK provides a Sentiment intensity Analyzer class that analizes for its negative, neutral, and positive sentiment."
      ],
      "metadata": {
        "id": "JpjUm9h5McWf"
      }
    },
    {
      "cell_type": "code",
      "source": [
        "from nltk.sentiment import SentimentIntensityAnalyzer\n",
        "analyzer = SentimentIntensityAnalyzer()\n",
        "sentiment_Score = analyzer.polarity_scores(text)\n",
        "print(sentiment_Score)"
      ],
      "metadata": {
        "id": "N41FsP22MTCW"
      },
      "execution_count": null,
      "outputs": []
    },
    {
      "cell_type": "markdown",
      "source": [
        "### Part_Of_Speech Tagging\n",
        "This example demonstrate how to tag each word in a sentence with its respective part off speech."
      ],
      "metadata": {
        "id": "QO1q9CdbOOXN"
      }
    },
    {
      "cell_type": "code",
      "source": [
        "from nltk import pos_tag\n",
        "text = \"Tesla shareholders have backed a record- breaking pay package for Elon Musk and approve a plan to move \\\n",
        "        the firm's legal headquarters to Taxas.\"\n",
        "tokens = word_tokenize(text)\n",
        "pos_tags = pos_tag(tokens)\n",
        "print(pos_tags)\n"
      ],
      "metadata": {
        "id": "mXzh_cnnOODK"
      },
      "execution_count": null,
      "outputs": []
    },
    {
      "cell_type": "markdown",
      "source": [
        "WE will use spaCy to access additional attributes (such as TAG, Explain, DEP, Shape, etc.)to create an informaive DataFrame."
      ],
      "metadata": {
        "id": "kzx_PpJMQVYl"
      }
    },
    {
      "cell_type": "code",
      "source": [
        "import spacy\n",
        "import pandas\n",
        "# load th English language trained model - small moldel\n",
        "nlp = spacy.losd(\"en_core_web_sm\")\n",
        "\n",
        "doc = nlp(text)\n",
        "# for token in doc:\n",
        "pos = [(token.text, token.lemma_, token.pos_, token.tag_, spacy.explain(token.tag_), token.dep_, token.shape_, token.is_alpha, token.is_stop)for token in doc]\n",
        "df = pd.DataFrame(pos, columns=['text', 'lemma','POS', 'TAG', 'Explain', 'DEP', 'Shape', 'Alpha', 'Stop'])\n",
        "df\n"
      ],
      "metadata": {
        "id": "YFj4TGH5ONtg"
      },
      "execution_count": null,
      "outputs": []
    },
    {
      "cell_type": "markdown",
      "source": [
        "### Named Entity Recognition\n",
        "NLTK provides a ne_chunk function that performs NER."
      ],
      "metadata": {
        "id": "h-g8q-q_UHPJ"
      }
    },
    {
      "cell_type": "code",
      "source": [
        "from nltk import ne_chunk\n",
        "tokens = word_tokenize(text)\n",
        "stop_words = set(stopwords.words('english'))\n",
        "filtered_tokens = [word for word in tokens if word.lower() not in stop_words]\n",
        "lemmatizer = WordNetLemmatizer()\n",
        "lemmatized_tokens = [lemmatizer.lemmatize(token) for token in filtered_tokens]\n",
        "pos_tags = nltk.pos_tag(lemmatized_tokens)\n",
        "ner_tags = ne_chunk(pos_tags)\n",
        "print(ner_tags)"
      ],
      "metadata": {
        "id": "yeoI4cIFQVFD"
      },
      "execution_count": null,
      "outputs": []
    },
    {
      "cell_type": "markdown",
      "source": [
        "Entity Recognition"
      ],
      "metadata": {
        "id": "u4R7aJbtZ-Pu"
      }
    },
    {
      "cell_type": "code",
      "source": [
        "from nltk import ne_chunk\n",
        "tokens = word_tokenize(tokens)\n",
        "def remove_stop():\n",
        "    stop_words = set(stopwords.words('english'))\n",
        "    filtered_tokens = [word for word in tokens if word.lower() not in stop_words]\n",
        "\n",
        "\n",
        "df['column name'].apply(remove_stop)\n",
        "\n",
        "\n",
        "lemmatizer = WordNetLemmatizer()\n",
        "lemmatized_tokens = [lemmatizer.lemmatize(token) for token in filtered_tokens]\n",
        "pos_tags = nltk.pos_tag(lemmatized_tokens)\n",
        "ner_tags = ne_chunk(pos_tags)\n",
        "print(ner_tags)"
      ],
      "metadata": {
        "id": "LAyy0SQSOLu0"
      },
      "execution_count": null,
      "outputs": []
    },
    {
      "cell_type": "markdown",
      "source": [
        "### Word Frequency Distribution\n",
        "we can analyse the frequency of words in the text."
      ],
      "metadata": {
        "id": "W5f0Iip_YMhF"
      }
    },
    {
      "cell_type": "code",
      "source": [
        "from nltk.probability import  FreqDist\n",
        "fdist = FreqDist(lemmatized_tokens)\n",
        "print(fdist.most_common(10))"
      ],
      "metadata": {
        "id": "Lq4ifa7yaD-l"
      },
      "execution_count": null,
      "outputs": []
    },
    {
      "cell_type": "markdown",
      "source": [
        "We can visualize this distribution."
      ],
      "metadata": {
        "id": "6C2T9G2Sah7t"
      }
    },
    {
      "cell_type": "code",
      "source": [
        "import matplotlib.pyplot as plt\n",
        "fdist.plot(30, cimilative=False)"
      ],
      "metadata": {
        "id": "GAv_es4lagnC"
      },
      "execution_count": null,
      "outputs": []
    }
  ]
}